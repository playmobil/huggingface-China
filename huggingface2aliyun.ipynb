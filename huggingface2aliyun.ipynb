{
  "cells": [
    {
      "cell_type": "code",
      "execution_count": null,
      "metadata": {
        "id": "VxjQdERLMEtJ"
      },
      "outputs": [],
      "source": [
        "!pip install gradio bypy huggingface_hub aligo"
      ]
    },
    {
      "cell_type": "code",
      "execution_count": 2,
      "metadata": {
        "id": "LN1OwqkCMFeo"
      },
      "outputs": [],
      "source": [
        "import os\n",
        "import shutil\n",
        "import huggingface_hub as hh\n",
        "import pandas as pd"
      ]
    },
    {
      "cell_type": "code",
      "execution_count": 3,
      "metadata": {
        "id": "fpUtZzFIMScV"
      },
      "outputs": [],
      "source": [
        "def format_size(bytes, precision=2):\n",
        "    \"\"\"\n",
        "    Convert a file size in bytes to a human-readable format like KB, MB, GB, etc.\n",
        "    Huggingface use 1000 not 1024\n",
        "    \"\"\"\n",
        "    units = [\"B\", \"KB\", \"MB\", \"GB\", \"TB\", \"PB\"]\n",
        "    size = float(bytes)\n",
        "    index = 0\n",
        "\n",
        "    while size >= 1000 and index < len(units) - 1:\n",
        "        index += 1\n",
        "        size /= 1000\n",
        "\n",
        "    return f\"{size:.{precision}f} {units[index]}\"\n",
        "\n",
        "\n",
        "def list_repo_files_info(repo_id,token=None):\n",
        "    data_ls = []\n",
        "    for file in list(hh.list_files_info(repo_id)):\n",
        "        data_ls.append([file.path,format_size(file.size)])\n",
        "    files = [file[0] for file in data_ls]\n",
        "    data = pd.DataFrame(data_ls,columns = ['文件名','大小'])\n",
        "    return data, files\n",
        "\n",
        "# 模型下载到当前目录下的\"./download\"目录\n",
        "def download_file(repo_id,filenames):\n",
        "    print(filenames)\n",
        "    repo_name = repo_id.replace(\"/\",\"---\")\n",
        "\n",
        "    for filename in filenames:\n",
        "        print(filename)\n",
        "        out = hh.hf_hub_download(repo_id=repo_id,filename=filename,local_dir=f\"./download/{repo_name}\",local_dir_use_symlinks=False,force_download =True)\n",
        "    out_path = f\"./download/{repo_name}\"\n",
        "    return out_path"
      ]
    },
    {
      "cell_type": "code",
      "execution_count": 4,
      "metadata": {
        "id": "yUNKT3OlMYP7"
      },
      "outputs": [],
      "source": [
        "# 设置huggingface的repo_id\n",
        "repo_id = \"baichuan-inc/Baichuan2-7B-Chat\""
      ]
    },
    {
      "cell_type": "code",
      "execution_count": null,
      "metadata": {
        "id": "S6K5U2RmMgMB"
      },
      "outputs": [],
      "source": [
        "# 查看huggingface的repo_id的文件列表\n",
        "data, filenames = list_repo_files_info(repo_id)\n",
        "filenames"
      ]
    },
    {
      "cell_type": "code",
      "execution_count": null,
      "metadata": {
        "id": "l2gJ-YAUMi6t"
      },
      "outputs": [],
      "source": [
        "filenames=[\"configuration_baichuan.py\",\n",
        "\"generation_config.json\",\n",
        "\"generation_utils.py\",\n",
        "\"modeling_baichuan.py\",\n",
        "\"pytorch_model.bin\",\n",
        "\"quantizer.py\",\n",
        "\"special_tokens_map.json\",\n",
        "\"tokenization_baichuan.py\",\n",
        "\"tokenizer.model\",\n",
        "\"tokenizer_config.json\"]"
      ]
    },
    {
      "cell_type": "code",
      "execution_count": null,
      "metadata": {
        "id": "6mSv6DSKNQl5"
      },
      "outputs": [],
      "source": [
        "# 这里是下载到本地的路径\n",
        "out_path = download_file(repo_id,filenames)"
      ]
    },
    {
      "cell_type": "code",
      "execution_count": null,
      "metadata": {
        "id": "-wuwGIaxNWSD"
      },
      "outputs": [],
      "source": [
        "!ls -l out_path"
      ]
    },
    {
      "cell_type": "code",
      "execution_count": null,
      "metadata": {
        "id": "LUMv3cnFuhyc"
      },
      "outputs": [],
      "source": [
        "import aligo\n",
        "from aligo import Aligo\n",
        "refresh_token = \"改成自己的refresh_token\"\n",
        "ali = Aligo(refresh_token=refresh_token)"
      ]
    },
    {
      "cell_type": "code",
      "execution_count": null,
      "metadata": {
        "id": "gMxc8Va8uiL9"
      },
      "outputs": [],
      "source": [
        "user = ali.get_user()  # 获取用户信息\n",
        "print(user.user_name, user.nick_name, user.phone)\n",
        "ll = ali.get_file_list()  # 获取网盘根目录文件列表\n",
        "ll"
      ]
    },
    {
      "cell_type": "code",
      "execution_count": null,
      "metadata": {
        "colab": {
          "background_save": true
        },
        "id": "aPvXrqRHuim6"
      },
      "outputs": [],
      "source": [
        "remote_folder = ali.get_folder_by_path('我的资源/models')\n",
        "# 把下载路径上传到指定目录\n",
        "ali.upload_folder(out_path)"
      ]
    }
  ],
  "metadata": {
    "colab": {
      "provenance": []
    },
    "kernelspec": {
      "display_name": "Python 3",
      "name": "python3"
    },
    "language_info": {
      "name": "python"
    }
  },
  "nbformat": 4,
  "nbformat_minor": 0
}